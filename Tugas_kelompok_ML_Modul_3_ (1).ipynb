{
  "nbformat": 4,
  "nbformat_minor": 0,
  "metadata": {
    "colab": {
      "provenance": [],
      "collapsed_sections": []
    },
    "kernelspec": {
      "name": "python3",
      "display_name": "Python 3"
    },
    "language_info": {
      "name": "python"
    },
    "accelerator": "GPU"
  },
  "cells": [
    {
      "cell_type": "code",
      "execution_count": 1,
      "metadata": {
        "colab": {
          "base_uri": "https://localhost:8080/"
        },
        "id": "LHZpd0PPdkYo",
        "outputId": "92087bee-4f63-4925-f74c-98f36af7b872"
      },
      "outputs": [
        {
          "output_type": "stream",
          "name": "stdout",
          "text": [
            "Mounted at /content/drive\n"
          ]
        }
      ],
      "source": [
        "from google.colab import drive\n",
        "drive.mount('/content/drive')"
      ]
    },
    {
      "cell_type": "code",
      "source": [
        "import os\n",
        "import zipfile\n",
        "import shutil\n",
        "\n",
        "%matplotlib inline\n",
        "\n",
        "import matplotlib.pyplot as plt\n",
        "import matplotlib.image as mpimg\n",
        "import cv2\n",
        "import numpy as np\n",
        "from sklearn.preprocessing import LabelEncoder\n",
        "\n",
        "from tensorflow.keras.preprocessing.image import ImageDataGenerator\n",
        "from keras.models import Sequential\n",
        "from keras.layers import Conv2D, MaxPooling2D, Flatten, Dense, Dropout, BatchNormalization, InputLayer, AveragePooling2D, GlobalAveragePooling2D\n",
        "from tensorflow.keras.optimizers import Adam, SGD\n",
        "from tensorflow.keras.callbacks import ModelCheckpoint, ReduceLROnPlateau, EarlyStopping"
      ],
      "metadata": {
        "id": "anB_AP04d1r8"
      },
      "execution_count": 2,
      "outputs": []
    },
    {
      "cell_type": "code",
      "source": [
        "# Definisikan path kaggle json\n",
        "import os\n",
        "\n",
        "os.environ['KAGGLE_CONFIG_DIR'] = \"/content/drive/MyDrive/kaggle\""
      ],
      "metadata": {
        "id": "9Fy47Cugd6Nq"
      },
      "execution_count": 3,
      "outputs": []
    },
    {
      "cell_type": "code",
      "source": [
        "!kaggle datasets download -d paultimothymooney/breast-histopathology-images"
      ],
      "metadata": {
        "colab": {
          "base_uri": "https://localhost:8080/"
        },
        "id": "Qk6phaASeBHU",
        "outputId": "7738ebfa-eab6-458f-f383-fed641a7e54e"
      },
      "execution_count": 4,
      "outputs": [
        {
          "output_type": "stream",
          "name": "stdout",
          "text": [
            "Downloading breast-histopathology-images.zip to /content\n",
            "100% 3.10G/3.10G [00:15<00:00, 256MB/s]\n",
            "100% 3.10G/3.10G [00:15<00:00, 209MB/s]\n"
          ]
        }
      ]
    },
    {
      "cell_type": "code",
      "source": [
        "# Ekstrak file dataset dan hapus file zip dataset agar tidak memakan banyak tempat.\n",
        "import zipfile\n",
        "\n",
        "local_zip = 'breast-histopathology-images.zip'\n",
        "zip_ref = zipfile.ZipFile(local_zip, 'r')\n",
        "zip_ref.extractall('/content/BreastCancer') #mengeksrak file zip ke direktory yang sudah ditentukan\n",
        "zip_ref.close()"
      ],
      "metadata": {
        "id": "fD7x3xOOeDM-"
      },
      "execution_count": 5,
      "outputs": []
    },
    {
      "cell_type": "code",
      "source": [
        "!rm /content/breast-histopathology-images.zip\n",
        "!rm -r /content/BreastCancer/IDC_regular_ps50_idx5"
      ],
      "metadata": {
        "id": "u-Od7Xu2eFk0"
      },
      "execution_count": 6,
      "outputs": []
    },
    {
      "cell_type": "code",
      "source": [
        "base_dataset = \"/content/BreastCancer\"\n",
        "cancer_dir = os.listdir(base_dataset)"
      ],
      "metadata": {
        "id": "ToAA2GQSeJQ3"
      },
      "execution_count": 7,
      "outputs": []
    },
    {
      "cell_type": "code",
      "source": [
        "#memastikan gambar png\n",
        "for class_item in cancer_dir:\n",
        "  cur_dir = base_dataset+\"/\"+class_item\n",
        "  for dir in os.listdir(cur_dir):\n",
        "    items_dir = cur_dir+\"/\"+dir\n",
        "    for item in os.listdir(items_dir):\n",
        "      if not item.endswith(\".png\"):\n",
        "          os.remove(os.path.join(cur_dir, item))"
      ],
      "metadata": {
        "id": "bpXHzYgOeLav"
      },
      "execution_count": 8,
      "outputs": []
    },
    {
      "cell_type": "code",
      "source": [
        "BreastCancerImage = 'BreastCancerImage'\n",
        "image_non_idc_dir = '/content/BreastCancerImage/non_idc'\n",
        "image_idc_dir = '/content/BreastCancerImage/idc'\n",
        "\n",
        "os.mkdir (BreastCancerImage)\n",
        "os.mkdir (image_non_idc_dir)\n",
        "os.mkdir (image_idc_dir)"
      ],
      "metadata": {
        "id": "eiACbokOeNay"
      },
      "execution_count": 9,
      "outputs": []
    },
    {
      "cell_type": "code",
      "source": [
        "#jadikan 1\n",
        "for patient in cancer_dir:   \n",
        "    path_0 = base_dataset +'/'+str(patient) + '/0'\n",
        "    path_1 = base_dataset +'/'+str(patient) + '/1'\n",
        "    file_list_0 = os.listdir(path_0)   \n",
        "    file_list_1 = os.listdir(path_1)\n",
        "    for fname in file_list_0:\n",
        "            src = os.path.join(path_0, fname)\n",
        "            dst = os.path.join(image_non_idc_dir, fname)\n",
        "            shutil.copyfile(src, dst)\n",
        "    for fname in file_list_1: \n",
        "        src = os.path.join(path_1, fname)\n",
        "        dst = os.path.join(image_idc_dir, fname)\n",
        "        shutil.copyfile(src, dst)"
      ],
      "metadata": {
        "id": "Tv4IQ2vBePvd"
      },
      "execution_count": 10,
      "outputs": []
    },
    {
      "cell_type": "code",
      "source": [
        "print (len(os.listdir('/content/BreastCancerImage/idc')))\n",
        "print (len(os.listdir('/content/BreastCancerImage/non_idc')))"
      ],
      "metadata": {
        "colab": {
          "base_uri": "https://localhost:8080/"
        },
        "id": "qJSXfHrseRdH",
        "outputId": "95f22b69-dfe5-4e35-a2e3-4aa1fe0f1a07"
      },
      "execution_count": 11,
      "outputs": [
        {
          "output_type": "stream",
          "name": "stdout",
          "text": [
            "78786\n",
            "198738\n"
          ]
        }
      ]
    },
    {
      "cell_type": "code",
      "source": [
        "!pip install split-folders"
      ],
      "metadata": {
        "colab": {
          "base_uri": "https://localhost:8080/"
        },
        "id": "TazVzAFoeThQ",
        "outputId": "ab156aeb-e993-41f1-d676-68d6611c7297"
      },
      "execution_count": 12,
      "outputs": [
        {
          "output_type": "stream",
          "name": "stdout",
          "text": [
            "Looking in indexes: https://pypi.org/simple, https://us-python.pkg.dev/colab-wheels/public/simple/\n",
            "Collecting split-folders\n",
            "  Downloading split_folders-0.5.1-py3-none-any.whl (8.4 kB)\n",
            "Installing collected packages: split-folders\n",
            "Successfully installed split-folders-0.5.1\n"
          ]
        }
      ]
    },
    {
      "cell_type": "code",
      "source": [
        "import splitfolders\n",
        "\n",
        "splitfolders.ratio(\"/content/BreastCancerImage\", output='SplitWithRatio', seed=42, ratio=(0.5, 0.5),group_prefix=None)"
      ],
      "metadata": {
        "colab": {
          "base_uri": "https://localhost:8080/"
        },
        "id": "lMfesrQOeVhb",
        "outputId": "95da5811-ddcc-4ec8-ef3b-8818fb931df8"
      },
      "execution_count": 13,
      "outputs": [
        {
          "output_type": "stream",
          "name": "stderr",
          "text": [
            "Copying files: 277524 files [01:42, 2700.12 files/s]\n"
          ]
        }
      ]
    },
    {
      "cell_type": "code",
      "source": [
        "!rm -r /content/BreastCancer\n",
        "!rm -r /content/BreastCancerImage"
      ],
      "metadata": {
        "id": "P9Ztm4IXeXop"
      },
      "execution_count": 14,
      "outputs": []
    },
    {
      "cell_type": "code",
      "source": [
        "train_ratio_idc_dir = '/content/SplitWithRatio/train/idc'\n",
        "train_ratio_non_idc_dir = '/content/SplitWithRatio/train/non_idc'\n",
        "val_ratio_idc_dir = '/content/SplitWithRatio/val/idc'\n",
        "val_ratio_non_idc_dir = '/content/SplitWithRatio/val/non_idc'\n",
        "\n",
        "train_ratio_idc = os.listdir(train_ratio_idc_dir)\n",
        "train_ratio_non_idc = os.listdir(train_ratio_non_idc_dir)\n",
        "val_ratio_idc = os.listdir(val_ratio_idc_dir)\n",
        "val_ratio_non_idc = os.listdir(val_ratio_non_idc_dir)"
      ],
      "metadata": {
        "id": "UfM9-GDweZ1J"
      },
      "execution_count": 15,
      "outputs": []
    },
    {
      "cell_type": "code",
      "source": [
        "nrows = 4\n",
        "ncols = 4\n",
        "\n",
        "pic_index = 0\n",
        "\n",
        "fig = plt.gcf()\n",
        "fig.set_size_inches(ncols * 4, nrows * 4)\n",
        "\n",
        "pic_index +=4\n",
        "next_idc_ratio = [os.path.join(train_ratio_idc_dir, fname) \n",
        "                for fname in os.listdir(train_ratio_idc_dir)[pic_index-4:pic_index]]\n",
        "next_non_idc_ratio = [os.path.join(train_ratio_non_idc_dir, fname) \n",
        "                for fname in os.listdir(train_ratio_non_idc_dir)[pic_index-4:pic_index]]\n",
        "\n",
        "\n",
        "for i, img_path in enumerate(next_idc_ratio+next_non_idc_ratio):\n",
        "  # Set up subplot; subplot indices start at 1\n",
        "  sp = plt.subplot(nrows, ncols, i + 1)\n",
        "  sp.axis('Off') # Don't show axes (or gridlines)\n",
        "\n",
        "  img = mpimg.imread(img_path)\n",
        "  plt.title(img_path.split(os.path.sep)[-2])\n",
        "  plt.imshow(img)\n",
        "\n",
        "plt.show()"
      ],
      "metadata": {
        "colab": {
          "base_uri": "https://localhost:8080/",
          "height": 463
        },
        "id": "3BOx520nebif",
        "outputId": "d29d7005-5d44-4548-8b72-80f3455d0592"
      },
      "execution_count": 16,
      "outputs": [
        {
          "output_type": "display_data",
          "data": {
            "text/plain": [
              "<Figure size 1152x1152 with 8 Axes>"
            ],
            "image/png": "[encoded data removed]"
          },
          "metadata": {
            "needs_background": "light"
          }
        }
      ]
    },
    {
      "cell_type": "code",
      "source": [
        "splitfolders.ratio(\"/content/SplitWithRatio/train\", output='Datasets', seed=42, ratio=(.7, .2, .1),group_prefix=None)"
      ],
      "metadata": {
        "colab": {
          "base_uri": "https://localhost:8080/"
        },
        "id": "llHfO38medQy",
        "outputId": "79e15ff7-b580-4be6-d60e-782d5e2465b5"
      },
      "execution_count": 17,
      "outputs": [
        {
          "output_type": "stream",
          "name": "stderr",
          "text": [
            "Copying files: 138762 files [00:24, 5629.55 files/s]\n"
          ]
        }
      ]
    },
    {
      "cell_type": "code",
      "source": [
        "print (\"Test idc :\" ,len(os.listdir('/content/Datasets/test/idc')))\n",
        "print (\"Test non idc :\" ,len(os.listdir('/content/Datasets/test/non_idc')))\n",
        "print (\"train idc :\" ,len(os.listdir('/content/Datasets/train/idc')))\n",
        "print (\"train non idc :\" ,len(os.listdir('/content/Datasets/train/non_idc')))\n",
        "print (\"Val idc :\" ,len(os.listdir('/content/Datasets/val/idc')))\n",
        "print (\"Val non idc :\" ,len(os.listdir('/content/Datasets/val/non_idc')))"
      ],
      "metadata": {
        "colab": {
          "base_uri": "https://localhost:8080/"
        },
        "id": "Hkmha13DeqUR",
        "outputId": "88c05e98-9a10-47cd-f081-06e656b9c4ce"
      },
      "execution_count": 18,
      "outputs": [
        {
          "output_type": "stream",
          "name": "stdout",
          "text": [
            "Test idc : 3940\n",
            "Test non idc : 9938\n",
            "train idc : 27575\n",
            "train non idc : 69558\n",
            "Val idc : 7878\n",
            "Val non idc : 19873\n"
          ]
        }
      ]
    },
    {
      "cell_type": "code",
      "source": [
        "!rm -r /content/SplitWithRatio"
      ],
      "metadata": {
        "id": "7vJFYifme2V1"
      },
      "execution_count": 19,
      "outputs": []
    },
    {
      "cell_type": "code",
      "source": [
        "data_train = \"/content/Datasets/train\"\n",
        "data_val = \"/content/Datasets/val\"\n",
        "data_test = \"/content/Datasets/test\""
      ],
      "metadata": {
        "id": "7gqz1ShnfpPW"
      },
      "execution_count": 20,
      "outputs": []
    },
    {
      "cell_type": "code",
      "source": [
        "#normalisasi menggunakan ImageDataGenerator\n",
        "from keras.preprocessing.image import ImageDataGenerator\n",
        "\n",
        "datagen = ImageDataGenerator(rescale=1.0/255.0)\n"
      ],
      "metadata": {
        "id": "UVwyLCqie4NC"
      },
      "execution_count": 21,
      "outputs": []
    },
    {
      "cell_type": "code",
      "source": [
        "input_shape = (60, 60)\n",
        "\n",
        "train_generator = datagen.flow_from_directory(data_train,\n",
        "                                              target_size=input_shape,\n",
        "                                              class_mode='categorical',\n",
        "                                              batch_size=32,\n",
        "                                              color_mode='rgb',\n",
        "                                              shuffle= False)\n",
        "\n",
        "validation_generator = datagen.flow_from_directory(data_val,\n",
        "                                              target_size=input_shape,\n",
        "                                              class_mode='categorical',\n",
        "                                              batch_size=32,\n",
        "                                              color_mode='rgb',\n",
        "                                              shuffle= False)\n",
        "\n",
        "test_generator = datagen.flow_from_directory(data_test,\n",
        "                                              target_size=input_shape,\n",
        "                                              batch_size=32,\n",
        "                                              color_mode='rgb',\n",
        "                                              shuffle= False)"
      ],
      "metadata": {
        "colab": {
          "base_uri": "https://localhost:8080/"
        },
        "id": "l-02Djq4fUws",
        "outputId": "8eb99a9d-1d90-45ab-bfa5-bc4bfa3ce60d"
      },
      "execution_count": 22,
      "outputs": [
        {
          "output_type": "stream",
          "name": "stdout",
          "text": [
            "Found 97133 images belonging to 2 classes.\n",
            "Found 27751 images belonging to 2 classes.\n",
            "Found 13878 images belonging to 2 classes.\n"
          ]
        }
      ]
    },
    {
      "cell_type": "code",
      "source": [
        "best_model1 = 'best_model1.h5'\n",
        "checkpoint_callback = ModelCheckpoint(best_model1,\n",
        "                                     monitor='val_accuracy',\n",
        "                                     save_best_only=True,\n",
        "                                     verbose=1)\n",
        "reduce_callback = ReduceLROnPlateau(monitor='val_accuracy', patience=3, factor=0.5, min_lr=0.000003, verbose=1)\n",
        "callbacks_list = [checkpoint_callback, reduce_callback]"
      ],
      "metadata": {
        "id": "m3Omr6OTg7UF"
      },
      "execution_count": 23,
      "outputs": []
    },
    {
      "cell_type": "code",
      "source": [
        "model1 = Sequential()\n",
        "\n",
        "model1.add(InputLayer(input_shape=[60,60,3]))\n",
        "model1.add(Conv2D(filters=16, kernel_size=3, strides=1, padding='same', activation='relu'))\n",
        "model1.add(BatchNormalization())\n",
        "model1.add(MaxPooling2D(pool_size=2, padding='same'))\n",
        "model1.add(Conv2D(filters=32, kernel_size=3, strides=1, padding='same', activation='relu'))\n",
        "model1.add(BatchNormalization())\n",
        "model1.add(MaxPooling2D(pool_size=2, padding='same'))\n",
        "model1.add(Conv2D(filters=64, kernel_size=3, strides=1, padding='same', activation='relu'))\n",
        "model1.add(BatchNormalization())\n",
        "model1.add(MaxPooling2D(pool_size=2, padding='same'))\n",
        "model1.add(Dropout(0.25))\n",
        "model1.add(Flatten())\n",
        "\n",
        "model1.add(Dense(128, activation='relu'))\n",
        "model1.add(Dense(256, activation='relu'))\n",
        "model1.add(Dense(512, activation='relu'))\n",
        "model1.add(Dropout(0.5))\n",
        "model1.add(Dropout(0.05))\n",
        "model1.add(Dense(2, activation='sigmoid'))\n",
        "\n",
        "model1.summary()"
      ],
      "metadata": {
        "colab": {
          "base_uri": "https://localhost:8080/"
        },
        "id": "YV3YZwAAgexm",
        "outputId": "06a52f61-9fb6-4104-c18c-8ab5b56cbc4b"
      },
      "execution_count": 27,
      "outputs": [
        {
          "output_type": "stream",
          "name": "stdout",
          "text": [
            "Model: \"sequential_1\"\n",
            "_________________________________________________________________\n",
            " Layer (type)                Output Shape              Param #   \n",
            "=================================================================\n",
            " conv2d_3 (Conv2D)           (None, 60, 60, 16)        448       \n",
            "                                                                 \n",
            " batch_normalization_3 (Batc  (None, 60, 60, 16)       64        \n",
            " hNormalization)                                                 \n",
            "                                                                 \n",
            " max_pooling2d_3 (MaxPooling  (None, 30, 30, 16)       0         \n",
            " 2D)                                                             \n",
            "                                                                 \n",
            " conv2d_4 (Conv2D)           (None, 30, 30, 32)        4640      \n",
            "                                                                 \n",
            " batch_normalization_4 (Batc  (None, 30, 30, 32)       128       \n",
            " hNormalization)                                                 \n",
            "                                                                 \n",
            " max_pooling2d_4 (MaxPooling  (None, 15, 15, 32)       0         \n",
            " 2D)                                                             \n",
            "                                                                 \n",
            " conv2d_5 (Conv2D)           (None, 15, 15, 64)        18496     \n",
            "                                                                 \n",
            " batch_normalization_5 (Batc  (None, 15, 15, 64)       256       \n",
            " hNormalization)                                                 \n",
            "                                                                 \n",
            " max_pooling2d_5 (MaxPooling  (None, 8, 8, 64)         0         \n",
            " 2D)                                                             \n",
            "                                                                 \n",
            " dropout_3 (Dropout)         (None, 8, 8, 64)          0         \n",
            "                                                                 \n",
            " flatten_1 (Flatten)         (None, 4096)              0         \n",
            "                                                                 \n",
            " dense_4 (Dense)             (None, 128)               524416    \n",
            "                                                                 \n",
            " dense_5 (Dense)             (None, 256)               33024     \n",
            "                                                                 \n",
            " dense_6 (Dense)             (None, 512)               131584    \n",
            "                                                                 \n",
            " dropout_4 (Dropout)         (None, 512)               0         \n",
            "                                                                 \n",
            " dropout_5 (Dropout)         (None, 512)               0         \n",
            "                                                                 \n",
            " dense_7 (Dense)             (None, 2)                 1026      \n",
            "                                                                 \n",
            "=================================================================\n",
            "Total params: 714,082\n",
            "Trainable params: 713,858\n",
            "Non-trainable params: 224\n",
            "_________________________________________________________________\n"
          ]
        }
      ]
    },
    {
      "cell_type": "code",
      "source": [
        "model1.compile(loss='categorical_crossentropy',\n",
        "              optimizer=SGD(lr=0.001, decay=0.001/20),\n",
        "              metrics=['accuracy'])"
      ],
      "metadata": {
        "id": "ivGuEHvRgwHr"
      },
      "execution_count": 28,
      "outputs": []
    },
    {
      "cell_type": "code",
      "source": [
        "H1 = model1.fit_generator(train_generator,\n",
        "                             epochs = 20,\n",
        "                             validation_data = validation_generator, callbacks= callbacks_list)"
      ],
      "metadata": {
        "colab": {
          "base_uri": "https://localhost:8080/"
        },
        "id": "0ry80LLHhA14",
        "outputId": "7d1a7875-4331-4235-9c36-dff59b9b21f9"
      },
      "execution_count": null,
      "outputs": [
        {
          "output_type": "stream",
          "name": "stdout",
          "text": [
            "Epoch 1/20\n"
          ]
        },
        {
          "output_type": "stream",
          "name": "stderr",
          "text": [
            "/usr/local/lib/python3.7/dist-packages/ipykernel_launcher.py:3: UserWarning: `Model.fit_generator` is deprecated and will be removed in a future version. Please use `Model.fit`, which supports generators.\n",
            "  This is separate from the ipykernel package so we can avoid doing imports until\n"
          ]
        },
        {
          "output_type": "stream",
          "name": "stdout",
          "text": [
            "3035/3036 [============================>.] - ETA: 0s - loss: 0.3802 - accuracy: 0.8315\n",
            "Epoch 1: val_accuracy improved from -inf to 0.70534, saving model to best_model1.h5\n",
            "3036/3036 [==============================] - 90s 29ms/step - loss: 0.3801 - accuracy: 0.8315 - val_loss: 0.6704 - val_accuracy: 0.7053 - lr: 0.0010\n",
            "Epoch 2/20\n",
            " 501/3036 [===>..........................] - ETA: 54s - loss: 0.2419 - accuracy: 0.9059"
          ]
        }
      ]
    },
    {
      "cell_type": "code",
      "source": [
        "fig, (ax1, ax2) = plt.subplots(2, 1)\n",
        "fig.set_figheight(5)\n",
        "fig.set_figwidth(20)\n",
        "\n",
        "ax1.plot(np.arange(0, 20), H1.history[\"loss\"], label=\"loss_model_H1\")\n",
        "ax1.plot(np.arange(0, 20), H1.history[\"val_loss\"], label=\"val_loss_model_H1\")\n",
        "ax1.set_title(\"Grafik loss dan accuracy\")\n",
        "#ax1.set_xlabel(\"Epoch #\")\n",
        "ax1.set_ylabel(\"Loss\")\n",
        "ax1.legend()\n",
        "\n",
        "\n",
        "ax2.plot(np.arange(0, 20), H1.history[\"accuracy\"], label=\"acc_model_H1\")\n",
        "ax2.plot(np.arange(0, 20), H1.history[\"val_accuracy\"], label=\"val_acc_model_H1\")\n",
        "#ax2.set_title(\"Accuracy Result Plot\")\n",
        "ax2.set_xlabel(\"Epoch #\")\n",
        "ax2.set_ylabel(\"Acc\")\n",
        "ax2.legend()"
      ],
      "metadata": {
        "id": "mYt9ndHhhYDs"
      },
      "execution_count": null,
      "outputs": []
    },
    {
      "cell_type": "code",
      "source": [
        "best_model2 = 'best_model2.h5'\n",
        "checkpoint_callback = ModelCheckpoint(best_model2,\n",
        "                                     monitor='val_accuracy',\n",
        "                                     save_best_only=True,\n",
        "                                     verbose=1)\n",
        "reduce_callback = ReduceLROnPlateau(monitor='val_accuracy', patience=3, factor=0.5, min_lr=0.000003, verbose=1)\n",
        "callbacks_list = [checkpoint_callback, reduce_callback]"
      ],
      "metadata": {
        "id": "RxPOc8NZnKyt"
      },
      "execution_count": null,
      "outputs": []
    },
    {
      "cell_type": "code",
      "source": [
        "model2 = Sequential()\n",
        "\n",
        "model2.add(InputLayer(input_shape=[50,50,3]))\n",
        "model2.add(Conv2D(32, kernel_size=3, strides=1,padding='same',activation='relu'))\n",
        "model2.add(BatchNormalization())\n",
        "model2.add(AveragePooling2D(2, padding='same'))\n",
        "model2.add(Conv2D(64, kernel_size=3, strides=1,padding='same',activation='relu'))\n",
        "model2.add(BatchNormalization())\n",
        "model2.add(AveragePooling2D(2, padding='same'))\n",
        "model2.add(Conv2D(128, kernel_size=3, strides=1,padding='same',activation='relu'))\n",
        "model2.add(BatchNormalization())\n",
        "model2.add(AveragePooling2D(2, padding='same'))\n",
        "model2.add(GlobalAveragePooling2D())\n",
        "model1.add(Dropout(0.25))\n",
        "model2.add(Flatten())\n",
        "\n",
        "model2.add(Dense(256,activation='relu'))\n",
        "model2.add(Dense(256,activation='relu'))\n",
        "model2.add(Dense(512,activation='relu'))\n",
        "model1.add(Dropout(0.5))\n",
        "model2.add(Dense(2,activation='softmax'))\n",
        "\n",
        "model2.summary()"
      ],
      "metadata": {
        "id": "-EjOQD2JhaaO"
      },
      "execution_count": null,
      "outputs": []
    },
    {
      "cell_type": "code",
      "source": [
        "model2.compile(loss='categorical_crossentropy',\n",
        "              optimizer=Adam(lr=0.001),\n",
        "              metrics=['accuracy'])"
      ],
      "metadata": {
        "id": "m_k0cYyuiDaF"
      },
      "execution_count": null,
      "outputs": []
    },
    {
      "cell_type": "code",
      "source": [
        "H2 = model2.fit_generator(train_generator,\n",
        "                             epochs = 20,\n",
        "                             validation_data = validation_generator, callbacks= callbacks_list)"
      ],
      "metadata": {
        "id": "dmmngJiCiKqA"
      },
      "execution_count": null,
      "outputs": []
    },
    {
      "cell_type": "code",
      "source": [
        "fig, (ax1, ax2) = plt.subplots(2, 1)\n",
        "fig.set_figheight(5)\n",
        "fig.set_figwidth(20)\n",
        "\n",
        "ax1.plot(np.arange(0, 20), H2.history[\"loss\"], label=\"loss_model_H2\")\n",
        "ax1.plot(np.arange(0, 20), H2.history[\"val_loss\"], label=\"val_loss_model_H2\")\n",
        "ax1.set_title(\"Grafik loss dan accuracy\")\n",
        "#ax1.set_xlabel(\"Epoch #\")\n",
        "ax1.set_ylabel(\"Loss\")\n",
        "ax1.legend()\n",
        "\n",
        "\n",
        "ax2.plot(np.arange(0, 20), H2.history[\"accuracy\"], label=\"acc_model_H2\")\n",
        "ax2.plot(np.arange(0, 20), H2.history[\"val_accuracy\"], label=\"val_acc_model_H2\")\n",
        "#ax2.set_title(\"Accuracy Result Plot\")\n",
        "ax2.set_xlabel(\"Epoch #\")\n",
        "ax2.set_ylabel(\"Acc\")\n",
        "ax2.legend()"
      ],
      "metadata": {
        "id": "--grGkBmiOdy"
      },
      "execution_count": null,
      "outputs": []
    },
    {
      "cell_type": "code",
      "source": [
        "from sklearn.metrics import classification_report\n",
        "\n",
        "print('================== model 1 ==================')\n",
        "ypred = model1.predict(test_generator)\n",
        "predictions = np.argmax(ypred, axis = 1)\n",
        "print(classification_report(test_generator.classes,predictions))\n",
        "\n",
        "print('================== model 2 ==================')\n",
        "ypred = model2.predict(test_generator)\n",
        "predictions = np.argmax(ypred, axis = 1)\n",
        "print(classification_report(test_generator.classes,predictions))"
      ],
      "metadata": {
        "id": "mPfZBZBg3ns-"
      },
      "execution_count": null,
      "outputs": []
    }
  ]
}