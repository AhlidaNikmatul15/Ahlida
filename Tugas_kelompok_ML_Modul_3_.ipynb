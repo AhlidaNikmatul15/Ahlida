{
  "nbformat": 4,
  "nbformat_minor": 0,
  "metadata": {
    "colab": {
      "provenance": [],
      "collapsed_sections": []
    },
    "kernelspec": {
      "name": "python3",
      "display_name": "Python 3"
    },
    "language_info": {
      "name": "python"
    },
    "accelerator": "GPU"
  },
  "cells": [
    {
      "cell_type": "code",
      "execution_count": null,
      "metadata": {
        "id": "LHZpd0PPdkYo"
      },
      "outputs": [],
      "source": [
        "from google.colab import drive\n",
        "drive.mount('/content/drive')"
      ]
    },
    {
      "cell_type": "code",
      "source": [
        "import os\n",
        "import zipfile\n",
        "import shutil\n",
        "\n",
        "%matplotlib inline\n",
        "\n",
        "import matplotlib.pyplot as plt\n",
        "import matplotlib.image as mpimg\n",
        "import cv2\n",
        "import numpy as np\n",
        "from sklearn.preprocessing import LabelEncoder\n",
        "\n",
        "from tensorflow.keras.preprocessing.image import ImageDataGenerator\n",
        "from keras.models import Sequential\n",
        "from keras.layers import Conv2D, MaxPooling2D, Flatten, Dense, Dropout, BatchNormalization, InputLayer, AveragePooling2D, GlobalAveragePooling2D\n",
        "from tensorflow.keras.optimizers import Adam, SGD\n",
        "from tensorflow.keras.callbacks import ModelCheckpoint, ReduceLROnPlateau, EarlyStopping"
      ],
      "metadata": {
        "id": "anB_AP04d1r8"
      },
      "execution_count": null,
      "outputs": []
    },
    {
      "cell_type": "code",
      "source": [
        "# Definisikan path kaggle json\n",
        "import os\n",
        "\n",
        "os.environ['KAGGLE_CONFIG_DIR'] = \"/content/drive/MyDrive/kaggle\""
      ],
      "metadata": {
        "id": "9Fy47Cugd6Nq"
      },
      "execution_count": null,
      "outputs": []
    },
    {
      "cell_type": "code",
      "source": [
        "!kaggle datasets download -d paultimothymooney/breast-histopathology-images"
      ],
      "metadata": {
        "id": "Qk6phaASeBHU"
      },
      "execution_count": null,
      "outputs": []
    },
    {
      "cell_type": "code",
      "source": [
        "# Ekstrak file dataset dan hapus file zip dataset agar tidak memakan banyak tempat.\n",
        "import zipfile\n",
        "\n",
        "local_zip = 'breast-histopathology-images.zip'\n",
        "zip_ref = zipfile.ZipFile(local_zip, 'r')\n",
        "zip_ref.extractall('/content/BreastCancer') #mengeksrak file zip ke direktory yang sudah ditentukan\n",
        "zip_ref.close()"
      ],
      "metadata": {
        "id": "fD7x3xOOeDM-"
      },
      "execution_count": null,
      "outputs": []
    },
    {
      "cell_type": "code",
      "source": [
        "!rm /content/breast-histopathology-images.zip\n",
        "!rm -r /content/BreastCancer/IDC_regular_ps50_idx5"
      ],
      "metadata": {
        "id": "u-Od7Xu2eFk0"
      },
      "execution_count": null,
      "outputs": []
    },
    {
      "cell_type": "code",
      "source": [
        "base_dataset = \"/content/BreastCancer\"\n",
        "cancer_dir = os.listdir(base_dataset)"
      ],
      "metadata": {
        "id": "ToAA2GQSeJQ3"
      },
      "execution_count": null,
      "outputs": []
    },
    {
      "cell_type": "code",
      "source": [
        "#memastikan gambar png\n",
        "for class_item in cancer_dir:\n",
        "  cur_dir = base_dataset+\"/\"+class_item\n",
        "  for dir in os.listdir(cur_dir):\n",
        "    items_dir = cur_dir+\"/\"+dir\n",
        "    for item in os.listdir(items_dir):\n",
        "      if not item.endswith(\".png\"):\n",
        "          os.remove(os.path.join(cur_dir, item))"
      ],
      "metadata": {
        "id": "bpXHzYgOeLav"
      },
      "execution_count": null,
      "outputs": []
    },
    {
      "cell_type": "code",
      "source": [
        "BreastCancerImage = 'BreastCancerImage'\n",
        "image_non_idc_dir = '/content/BreastCancerImage/non_idc'\n",
        "image_idc_dir = '/content/BreastCancerImage/idc'\n",
        "\n",
        "os.mkdir (BreastCancerImage)\n",
        "os.mkdir (image_non_idc_dir)\n",
        "os.mkdir (image_idc_dir)"
      ],
      "metadata": {
        "id": "eiACbokOeNay"
      },
      "execution_count": null,
      "outputs": []
    },
    {
      "cell_type": "code",
      "source": [
        "#jadikan 1\n",
        "for patient in cancer_dir:   \n",
        "    path_0 = base_dataset +'/'+str(patient) + '/0'\n",
        "    path_1 = base_dataset +'/'+str(patient) + '/1'\n",
        "    file_list_0 = os.listdir(path_0)   \n",
        "    file_list_1 = os.listdir(path_1)\n",
        "    for fname in file_list_0:\n",
        "            src = os.path.join(path_0, fname)\n",
        "            dst = os.path.join(image_non_idc_dir, fname)\n",
        "            shutil.copyfile(src, dst)\n",
        "    for fname in file_list_1: \n",
        "        src = os.path.join(path_1, fname)\n",
        "        dst = os.path.join(image_idc_dir, fname)\n",
        "        shutil.copyfile(src, dst)"
      ],
      "metadata": {
        "id": "Tv4IQ2vBePvd"
      },
      "execution_count": null,
      "outputs": []
    },
    {
      "cell_type": "code",
      "source": [
        "print (len(os.listdir('/content/BreastCancerImage/idc')))\n",
        "print (len(os.listdir('/content/BreastCancerImage/non_idc')))"
      ],
      "metadata": {
        "colab": {
          "base_uri": "https://localhost:8080/"
        },
        "id": "qJSXfHrseRdH",
        "outputId": "159508ff-33c5-4a32-d76a-47806b2be533"
      },
      "execution_count": null,
      "outputs": [
        {
          "output_type": "stream",
          "name": "stdout",
          "text": [
            "78786\n",
            "198738\n"
          ]
        }
      ]
    },
    {
      "cell_type": "code",
      "source": [
        "!pip install split-folders"
      ],
      "metadata": {
        "id": "TazVzAFoeThQ"
      },
      "execution_count": null,
      "outputs": []
    },
    {
      "cell_type": "code",
      "source": [
        "import splitfolders\n",
        "\n",
        "splitfolders.ratio(\"/content/BreastCancerImage\", output='SplitWithRatio', seed=42, ratio=(0.5, 0.5),group_prefix=None)"
      ],
      "metadata": {
        "id": "lMfesrQOeVhb"
      },
      "execution_count": null,
      "outputs": []
    },
    {
      "cell_type": "code",
      "source": [
        "!rm -r /content/BreastCancer\n",
        "!rm -r /content/BreastCancerImage"
      ],
      "metadata": {
        "id": "P9Ztm4IXeXop"
      },
      "execution_count": null,
      "outputs": []
    },
    {
      "cell_type": "code",
      "source": [
        "train_ratio_idc_dir = '/content/SplitWithRatio/train/idc'\n",
        "train_ratio_non_idc_dir = '/content/SplitWithRatio/train/non_idc'\n",
        "val_ratio_idc_dir = '/content/SplitWithRatio/val/idc'\n",
        "val_ratio_non_idc_dir = '/content/SplitWithRatio/val/non_idc'\n",
        "\n",
        "train_ratio_idc = os.listdir(train_ratio_idc_dir)\n",
        "train_ratio_non_idc = os.listdir(train_ratio_non_idc_dir)\n",
        "val_ratio_idc = os.listdir(val_ratio_idc_dir)\n",
        "val_ratio_non_idc = os.listdir(val_ratio_non_idc_dir)"
      ],
      "metadata": {
        "id": "UfM9-GDweZ1J"
      },
      "execution_count": null,
      "outputs": []
    },
    {
      "cell_type": "code",
      "source": [
        "nrows = 4\n",
        "ncols = 4\n",
        "\n",
        "pic_index = 0\n",
        "\n",
        "fig = plt.gcf()\n",
        "fig.set_size_inches(ncols * 4, nrows * 4)\n",
        "\n",
        "pic_index +=4\n",
        "next_idc_ratio = [os.path.join(train_ratio_idc_dir, fname) \n",
        "                for fname in os.listdir(train_ratio_idc_dir)[pic_index-4:pic_index]]\n",
        "next_non_idc_ratio = [os.path.join(train_ratio_non_idc_dir, fname) \n",
        "                for fname in os.listdir(train_ratio_non_idc_dir)[pic_index-4:pic_index]]\n",
        "\n",
        "\n",
        "for i, img_path in enumerate(next_idc_ratio+next_non_idc_ratio):\n",
        "  # Set up subplot; subplot indices start at 1\n",
        "  sp = plt.subplot(nrows, ncols, i + 1)\n",
        "  sp.axis('Off') # Don't show axes (or gridlines)\n",
        "\n",
        "  img = mpimg.imread(img_path)\n",
        "  plt.title(img_path.split(os.path.sep)[-2])\n",
        "  plt.imshow(img)\n",
        "\n",
        "plt.show()"
      ],
      "metadata": {
        "id": "3BOx520nebif"
      },
      "execution_count": null,
      "outputs": []
    },
    {
      "cell_type": "code",
      "source": [
        "splitfolders.ratio(\"/content/SplitWithRatio/train\", output='Datasets', seed=42, ratio=(.7, .2, .1),group_prefix=None)"
      ],
      "metadata": {
        "id": "llHfO38medQy"
      },
      "execution_count": null,
      "outputs": []
    },
    {
      "cell_type": "code",
      "source": [
        "print (\"Test idc :\" ,len(os.listdir('/content/Datasets/test/idc')))\n",
        "print (\"Test non idc :\" ,len(os.listdir('/content/Datasets/test/non_idc')))\n",
        "print (\"train idc :\" ,len(os.listdir('/content/Datasets/train/idc')))\n",
        "print (\"train non idc :\" ,len(os.listdir('/content/Datasets/train/non_idc')))\n",
        "print (\"Val idc :\" ,len(os.listdir('/content/Datasets/val/idc')))\n",
        "print (\"Val non idc :\" ,len(os.listdir('/content/Datasets/val/non_idc')))"
      ],
      "metadata": {
        "id": "Hkmha13DeqUR"
      },
      "execution_count": null,
      "outputs": []
    },
    {
      "cell_type": "code",
      "source": [
        "!rm -r /content/SplitWithRatio"
      ],
      "metadata": {
        "id": "7vJFYifme2V1"
      },
      "execution_count": null,
      "outputs": []
    },
    {
      "cell_type": "code",
      "source": [
        "data_train = \"/content/Datasets/train\"\n",
        "data_val = \"/content/Datasets/val\"\n",
        "data_test = \"/content/Datasets/test\""
      ],
      "metadata": {
        "id": "7gqz1ShnfpPW"
      },
      "execution_count": null,
      "outputs": []
    },
    {
      "cell_type": "code",
      "source": [
        "#normalisasi menggunakan ImageDataGenerator\n",
        "from keras.preprocessing.image import ImageDataGenerator\n",
        "\n",
        "datagen = ImageDataGenerator(rescale=1.0/255.0)\n"
      ],
      "metadata": {
        "id": "UVwyLCqie4NC"
      },
      "execution_count": null,
      "outputs": []
    },
    {
      "cell_type": "code",
      "source": [
        "input_shape = (60, 60)\n",
        "\n",
        "train_generator = datagen.flow_from_directory(data_train,\n",
        "                                              target_size=input_shape,\n",
        "                                              class_mode='categorical',\n",
        "                                              batch_size=32,\n",
        "                                              color_mode='rgb',\n",
        "                                              shuffle= False)\n",
        "\n",
        "validation_generator = datagen.flow_from_directory(data_val,\n",
        "                                              target_size=input_shape,\n",
        "                                              class_mode='categorical',\n",
        "                                              batch_size=32,\n",
        "                                              color_mode='rgb',\n",
        "                                              shuffle= False)\n",
        "\n",
        "test_generator = datagen.flow_from_directory(data_test,\n",
        "                                              target_size=input_shape,\n",
        "                                              batch_size=32,\n",
        "                                              color_mode='rgb',\n",
        "                                              shuffle= False)"
      ],
      "metadata": {
        "id": "l-02Djq4fUws"
      },
      "execution_count": null,
      "outputs": []
    },
    {
      "cell_type": "code",
      "source": [
        "best_model1 = 'best_model1.h5'\n",
        "checkpoint_callback = ModelCheckpoint(best_model1,\n",
        "                                     monitor='val_accuracy',\n",
        "                                     save_best_only=True,\n",
        "                                     verbose=1)\n",
        "reduce_callback = ReduceLROnPlateau(monitor='val_accuracy', patience=3, factor=0.5, min_lr=0.000003, verbose=1)\n",
        "callbacks_list = [checkpoint_callback, reduce_callback]"
      ],
      "metadata": {
        "id": "m3Omr6OTg7UF"
      },
      "execution_count": null,
      "outputs": []
    },
    {
      "cell_type": "code",
      "source": [
        "model1 = Sequential()\n",
        "\n",
        "model1.add(InputLayer(input_shape=[50,50,3]))\n",
        "model1.add(Conv2D(filters=16, kernel_size=3, strides=1, padding='same', activation='relu'))\n",
        "model1.add(BatchNormalization())\n",
        "model1.add(MaxPooling2D(pool_size=2, padding='same'))\n",
        "model1.add(Conv2D(filters=32, kernel_size=3, strides=1, padding='same', activation='relu'))\n",
        "model1.add(BatchNormalization())\n",
        "model1.add(MaxPooling2D(pool_size=2, padding='same'))\n",
        "model1.add(Conv2D(filters=64, kernel_size=3, strides=1, padding='same', activation='relu'))\n",
        "model1.add(BatchNormalization())\n",
        "model1.add(MaxPooling2D(pool_size=2, padding='same'))\n",
        "model1.add(Dropout(0.25))\n",
        "model1.add(Flatten())\n",
        "\n",
        "model1.add(Dense(128, activation='relu'))\n",
        "model1.add(Dense(256, activation='relu'))\n",
        "model1.add(Dense(512, activation='relu'))\n",
        "model1.add(Dropout(0.5))\n",
        "model1.add(Dropout(0.05))\n",
        "model1.add(Dense(2, activation='sigmoid'))\n",
        "\n",
        "model1.summary()"
      ],
      "metadata": {
        "id": "YV3YZwAAgexm"
      },
      "execution_count": null,
      "outputs": []
    },
    {
      "cell_type": "code",
      "source": [
        "model1.compile(loss='categorical_crossentropy',\n",
        "              optimizer=SGD(lr=0.001, decay=0.001/20),\n",
        "              metrics=['accuracy'])"
      ],
      "metadata": {
        "id": "ivGuEHvRgwHr"
      },
      "execution_count": null,
      "outputs": []
    },
    {
      "cell_type": "code",
      "source": [
        "H1 = model1.fit_generator(train_generator,\n",
        "                             epochs = 20,\n",
        "                             validation_data = validation_generator, callbacks= callbacks_list)"
      ],
      "metadata": {
        "id": "0ry80LLHhA14"
      },
      "execution_count": null,
      "outputs": []
    },
    {
      "cell_type": "code",
      "source": [
        "fig, (ax1, ax2) = plt.subplots(2, 1)\n",
        "fig.set_figheight(5)\n",
        "fig.set_figwidth(20)\n",
        "\n",
        "ax1.plot(np.arange(0, 20), H1.history[\"loss\"], label=\"loss_model_H1\")\n",
        "ax1.plot(np.arange(0, 20), H1.history[\"val_loss\"], label=\"val_loss_model_H1\")\n",
        "ax1.set_title(\"Grafik loss dan accuracy\")\n",
        "#ax1.set_xlabel(\"Epoch #\")\n",
        "ax1.set_ylabel(\"Loss\")\n",
        "ax1.legend()\n",
        "\n",
        "\n",
        "ax2.plot(np.arange(0, 20), H1.history[\"accuracy\"], label=\"acc_model_H1\")\n",
        "ax2.plot(np.arange(0, 20), H1.history[\"val_accuracy\"], label=\"val_acc_model_H1\")\n",
        "#ax2.set_title(\"Accuracy Result Plot\")\n",
        "ax2.set_xlabel(\"Epoch #\")\n",
        "ax2.set_ylabel(\"Acc\")\n",
        "ax2.legend()"
      ],
      "metadata": {
        "id": "mYt9ndHhhYDs"
      },
      "execution_count": null,
      "outputs": []
    },
    {
      "cell_type": "code",
      "source": [
        "best_model2 = 'best_model2.h5'\n",
        "checkpoint_callback = ModelCheckpoint(best_model2,\n",
        "                                     monitor='val_accuracy',\n",
        "                                     save_best_only=True,\n",
        "                                     verbose=1)\n",
        "reduce_callback = ReduceLROnPlateau(monitor='val_accuracy', patience=3, factor=0.5, min_lr=0.000003, verbose=1)\n",
        "callbacks_list = [checkpoint_callback, reduce_callback]"
      ],
      "metadata": {
        "id": "RxPOc8NZnKyt"
      },
      "execution_count": null,
      "outputs": []
    },
    {
      "cell_type": "code",
      "source": [
        "model2 = Sequential()\n",
        "\n",
        "model2.add(InputLayer(input_shape=[50,50,3]))\n",
        "model2.add(Conv2D(32, kernel_size=3, strides=1,padding='same',activation='relu'))\n",
        "model2.add(BatchNormalization())\n",
        "model2.add(AveragePooling2D(2, padding='same'))\n",
        "model2.add(Conv2D(64, kernel_size=3, strides=1,padding='same',activation='relu'))\n",
        "model2.add(BatchNormalization())\n",
        "model2.add(AveragePooling2D(2, padding='same'))\n",
        "model2.add(Conv2D(128, kernel_size=3, strides=1,padding='same',activation='relu'))\n",
        "model2.add(BatchNormalization())\n",
        "model2.add(AveragePooling2D(2, padding='same'))\n",
        "model2.add(GlobalAveragePooling2D())\n",
        "model1.add(Dropout(0.25))\n",
        "model2.add(Flatten())\n",
        "\n",
        "model2.add(Dense(256,activation='relu'))\n",
        "model2.add(Dense(256,activation='relu'))\n",
        "model2.add(Dense(512,activation='relu'))\n",
        "model1.add(Dropout(0.5))\n",
        "model2.add(Dense(2,activation='softmax'))\n",
        "\n",
        "model2.summary()"
      ],
      "metadata": {
        "colab": {
          "base_uri": "https://localhost:8080/"
        },
        "id": "-EjOQD2JhaaO",
        "outputId": "c4a291f7-2775-43ee-b455-6e55ab51f330"
      },
      "execution_count": null,
      "outputs": [
        {
          "output_type": "stream",
          "name": "stdout",
          "text": [
            "Model: \"sequential_3\"\n",
            "_________________________________________________________________\n",
            " Layer (type)                Output Shape              Param #   \n",
            "=================================================================\n",
            " conv2d_7 (Conv2D)           (None, 60, 60, 32)        896       \n",
            "                                                                 \n",
            " batch_normalization_7 (Batc  (None, 60, 60, 32)       128       \n",
            " hNormalization)                                                 \n",
            "                                                                 \n",
            " average_pooling2d_3 (Averag  (None, 30, 30, 32)       0         \n",
            " ePooling2D)                                                     \n",
            "                                                                 \n",
            " conv2d_8 (Conv2D)           (None, 30, 30, 64)        18496     \n",
            "                                                                 \n",
            " batch_normalization_8 (Batc  (None, 30, 30, 64)       256       \n",
            " hNormalization)                                                 \n",
            "                                                                 \n",
            " average_pooling2d_4 (Averag  (None, 15, 15, 64)       0         \n",
            " ePooling2D)                                                     \n",
            "                                                                 \n",
            " conv2d_9 (Conv2D)           (None, 15, 15, 128)       73856     \n",
            "                                                                 \n",
            " batch_normalization_9 (Batc  (None, 15, 15, 128)      512       \n",
            " hNormalization)                                                 \n",
            "                                                                 \n",
            " average_pooling2d_5 (Averag  (None, 8, 8, 128)        0         \n",
            " ePooling2D)                                                     \n",
            "                                                                 \n",
            " global_average_pooling2d (G  (None, 128)              0         \n",
            " lobalAveragePooling2D)                                          \n",
            "                                                                 \n",
            " flatten_1 (Flatten)         (None, 128)               0         \n",
            "                                                                 \n",
            " dense_4 (Dense)             (None, 256)               33024     \n",
            "                                                                 \n",
            " dense_5 (Dense)             (None, 256)               65792     \n",
            "                                                                 \n",
            " dense_6 (Dense)             (None, 512)               131584    \n",
            "                                                                 \n",
            " dense_7 (Dense)             (None, 2)                 1026      \n",
            "                                                                 \n",
            "=================================================================\n",
            "Total params: 325,570\n",
            "Trainable params: 325,122\n",
            "Non-trainable params: 448\n",
            "_________________________________________________________________\n"
          ]
        }
      ]
    },
    {
      "cell_type": "code",
      "source": [
        "model2.compile(loss='categorical_crossentropy',\n",
        "              optimizer=Adam(lr=0.001),\n",
        "              metrics=['accuracy'])"
      ],
      "metadata": {
        "colab": {
          "base_uri": "https://localhost:8080/"
        },
        "id": "m_k0cYyuiDaF",
        "outputId": "eec5df4d-c5c3-46ef-f553-e808e103641d"
      },
      "execution_count": null,
      "outputs": [
        {
          "output_type": "stream",
          "name": "stderr",
          "text": [
            "/usr/local/lib/python3.7/dist-packages/keras/optimizers/optimizer_v2/adam.py:110: UserWarning: The `lr` argument is deprecated, use `learning_rate` instead.\n",
            "  super(Adam, self).__init__(name, **kwargs)\n"
          ]
        }
      ]
    },
    {
      "cell_type": "code",
      "source": [
        "H2 = model2.fit_generator(train_generator,\n",
        "                             epochs = 20,\n",
        "                             validation_data = validation_generator, callbacks= callbacks_list)"
      ],
      "metadata": {
        "colab": {
          "base_uri": "https://localhost:8080/"
        },
        "id": "dmmngJiCiKqA",
        "outputId": "c9015f37-0814-40df-eb30-75b3afeaa0cf"
      },
      "execution_count": null,
      "outputs": [
        {
          "output_type": "stream",
          "name": "stdout",
          "text": [
            "Epoch 1/20\n"
          ]
        },
        {
          "output_type": "stream",
          "name": "stderr",
          "text": [
            "/usr/local/lib/python3.7/dist-packages/ipykernel_launcher.py:3: UserWarning: `Model.fit_generator` is deprecated and will be removed in a future version. Please use `Model.fit`, which supports generators.\n",
            "  This is separate from the ipykernel package so we can avoid doing imports until\n"
          ]
        },
        {
          "output_type": "stream",
          "name": "stdout",
          "text": [
            "3035/3036 [============================>.] - ETA: 0s - loss: 0.3743 - accuracy: 0.8440\n",
            "Epoch 1: val_accuracy improved from -inf to 0.38035, saving model to best_model.h5\n",
            "3036/3036 [==============================] - 69s 22ms/step - loss: 0.3742 - accuracy: 0.8440 - val_loss: 1.1237 - val_accuracy: 0.3803 - lr: 0.0010\n",
            "Epoch 2/20\n",
            "3034/3036 [============================>.] - ETA: 0s - loss: 0.2228 - accuracy: 0.9166\n",
            "Epoch 2: val_accuracy improved from 0.38035 to 0.67875, saving model to best_model.h5\n",
            "3036/3036 [==============================] - 68s 22ms/step - loss: 0.2227 - accuracy: 0.9167 - val_loss: 0.8972 - val_accuracy: 0.6788 - lr: 0.0010\n",
            "Epoch 3/20\n",
            "3034/3036 [============================>.] - ETA: 0s - loss: 0.1963 - accuracy: 0.9280\n",
            "Epoch 3: val_accuracy improved from 0.67875 to 0.75042, saving model to best_model.h5\n",
            "3036/3036 [==============================] - 67s 22ms/step - loss: 0.1962 - accuracy: 0.9281 - val_loss: 0.7775 - val_accuracy: 0.7504 - lr: 0.0010\n",
            "Epoch 4/20\n",
            "3033/3036 [============================>.] - ETA: 0s - loss: 0.1823 - accuracy: 0.9364\n",
            "Epoch 4: val_accuracy did not improve from 0.75042\n",
            "3036/3036 [==============================] - 67s 22ms/step - loss: 0.1821 - accuracy: 0.9365 - val_loss: 1.1165 - val_accuracy: 0.3501 - lr: 0.0010\n",
            "Epoch 5/20\n",
            "3035/3036 [============================>.] - ETA: 0s - loss: 0.1740 - accuracy: 0.9407\n",
            "Epoch 5: val_accuracy did not improve from 0.75042\n",
            "3036/3036 [==============================] - 68s 22ms/step - loss: 0.1739 - accuracy: 0.9407 - val_loss: 0.6263 - val_accuracy: 0.7244 - lr: 0.0010\n",
            "Epoch 6/20\n",
            "3034/3036 [============================>.] - ETA: 0s - loss: 0.1724 - accuracy: 0.9372\n",
            "Epoch 6: val_accuracy did not improve from 0.75042\n",
            "\n",
            "Epoch 6: ReduceLROnPlateau reducing learning rate to 0.0005000000237487257.\n",
            "3036/3036 [==============================] - 78s 26ms/step - loss: 0.1727 - accuracy: 0.9370 - val_loss: 0.7254 - val_accuracy: 0.6770 - lr: 0.0010\n",
            "Epoch 7/20\n",
            "3034/3036 [============================>.] - ETA: 0s - loss: 0.1283 - accuracy: 0.9520\n",
            "Epoch 7: val_accuracy did not improve from 0.75042\n",
            "3036/3036 [==============================] - 66s 22ms/step - loss: 0.1282 - accuracy: 0.9520 - val_loss: 0.7408 - val_accuracy: 0.7149 - lr: 5.0000e-04\n",
            "Epoch 8/20\n",
            "3034/3036 [============================>.] - ETA: 0s - loss: 0.1230 - accuracy: 0.9534\n",
            "Epoch 8: val_accuracy did not improve from 0.75042\n",
            "3036/3036 [==============================] - 69s 23ms/step - loss: 0.1229 - accuracy: 0.9534 - val_loss: 0.6880 - val_accuracy: 0.6668 - lr: 5.0000e-04\n",
            "Epoch 9/20\n",
            "3034/3036 [============================>.] - ETA: 0s - loss: 0.1225 - accuracy: 0.9563\n",
            "Epoch 9: val_accuracy did not improve from 0.75042\n",
            "\n",
            "Epoch 9: ReduceLROnPlateau reducing learning rate to 0.0002500000118743628.\n",
            "3036/3036 [==============================] - 67s 22ms/step - loss: 0.1224 - accuracy: 0.9564 - val_loss: 0.9884 - val_accuracy: 0.6889 - lr: 5.0000e-04\n",
            "Epoch 10/20\n",
            "3035/3036 [============================>.] - ETA: 0s - loss: 0.0992 - accuracy: 0.9633\n",
            "Epoch 10: val_accuracy did not improve from 0.75042\n",
            "3036/3036 [==============================] - 67s 22ms/step - loss: 0.0995 - accuracy: 0.9630 - val_loss: 1.1033 - val_accuracy: 0.7175 - lr: 2.5000e-04\n",
            "Epoch 11/20\n",
            "3035/3036 [============================>.] - ETA: 0s - loss: 0.0934 - accuracy: 0.9664\n",
            "Epoch 11: val_accuracy did not improve from 0.75042\n",
            "3036/3036 [==============================] - 68s 22ms/step - loss: 0.0934 - accuracy: 0.9664 - val_loss: 0.9973 - val_accuracy: 0.6887 - lr: 2.5000e-04\n",
            "Epoch 12/20\n",
            "3034/3036 [============================>.] - ETA: 0s - loss: 0.0928 - accuracy: 0.9664\n",
            "Epoch 12: val_accuracy did not improve from 0.75042\n",
            "\n",
            "Epoch 12: ReduceLROnPlateau reducing learning rate to 0.0001250000059371814.\n",
            "3036/3036 [==============================] - 66s 22ms/step - loss: 0.0927 - accuracy: 0.9664 - val_loss: 1.3785 - val_accuracy: 0.7162 - lr: 2.5000e-04\n",
            "Epoch 13/20\n",
            "3036/3036 [==============================] - ETA: 0s - loss: 0.0796 - accuracy: 0.9688\n",
            "Epoch 13: val_accuracy did not improve from 0.75042\n",
            "3036/3036 [==============================] - 67s 22ms/step - loss: 0.0796 - accuracy: 0.9688 - val_loss: 1.1569 - val_accuracy: 0.7187 - lr: 1.2500e-04\n",
            "Epoch 14/20\n",
            "3034/3036 [============================>.] - ETA: 0s - loss: 0.0759 - accuracy: 0.9713\n",
            "Epoch 14: val_accuracy did not improve from 0.75042\n",
            "3036/3036 [==============================] - 66s 22ms/step - loss: 0.0760 - accuracy: 0.9712 - val_loss: 1.3109 - val_accuracy: 0.7180 - lr: 1.2500e-04\n",
            "Epoch 15/20\n",
            "3036/3036 [==============================] - ETA: 0s - loss: 0.0726 - accuracy: 0.9714\n",
            "Epoch 15: val_accuracy did not improve from 0.75042\n",
            "\n",
            "Epoch 15: ReduceLROnPlateau reducing learning rate to 6.25000029685907e-05.\n",
            "3036/3036 [==============================] - 67s 22ms/step - loss: 0.0726 - accuracy: 0.9714 - val_loss: 2.5658 - val_accuracy: 0.7162 - lr: 1.2500e-04\n",
            "Epoch 16/20\n",
            "3036/3036 [==============================] - ETA: 0s - loss: 0.0670 - accuracy: 0.9737\n",
            "Epoch 16: val_accuracy did not improve from 0.75042\n",
            "3036/3036 [==============================] - 66s 22ms/step - loss: 0.0670 - accuracy: 0.9737 - val_loss: 1.1830 - val_accuracy: 0.7196 - lr: 6.2500e-05\n",
            "Epoch 17/20\n",
            "3036/3036 [==============================] - ETA: 0s - loss: 0.0641 - accuracy: 0.9743\n",
            "Epoch 17: val_accuracy did not improve from 0.75042\n",
            "3036/3036 [==============================] - 66s 22ms/step - loss: 0.0641 - accuracy: 0.9743 - val_loss: 1.1707 - val_accuracy: 0.7281 - lr: 6.2500e-05\n",
            "Epoch 18/20\n",
            "3036/3036 [==============================] - ETA: 0s - loss: 0.0621 - accuracy: 0.9746\n",
            "Epoch 18: val_accuracy did not improve from 0.75042\n",
            "\n",
            "Epoch 18: ReduceLROnPlateau reducing learning rate to 3.125000148429535e-05.\n",
            "3036/3036 [==============================] - 67s 22ms/step - loss: 0.0621 - accuracy: 0.9746 - val_loss: 1.1142 - val_accuracy: 0.7345 - lr: 6.2500e-05\n",
            "Epoch 19/20\n",
            "3034/3036 [============================>.] - ETA: 0s - loss: 0.0584 - accuracy: 0.9764\n",
            "Epoch 19: val_accuracy did not improve from 0.75042\n",
            "3036/3036 [==============================] - 66s 22ms/step - loss: 0.0584 - accuracy: 0.9765 - val_loss: 2.6677 - val_accuracy: 0.7154 - lr: 3.1250e-05\n",
            "Epoch 20/20\n",
            "3036/3036 [==============================] - ETA: 0s - loss: 0.0571 - accuracy: 0.9771\n",
            "Epoch 20: val_accuracy did not improve from 0.75042\n",
            "3036/3036 [==============================] - 65s 21ms/step - loss: 0.0571 - accuracy: 0.9771 - val_loss: 2.1779 - val_accuracy: 0.7156 - lr: 3.1250e-05\n"
          ]
        }
      ]
    },
    {
      "cell_type": "code",
      "source": [
        "fig, (ax1, ax2) = plt.subplots(2, 1)\n",
        "fig.set_figheight(5)\n",
        "fig.set_figwidth(20)\n",
        "\n",
        "ax1.plot(np.arange(0, 20), H2.history[\"loss\"], label=\"loss_model_H2\")\n",
        "ax1.plot(np.arange(0, 20), H2.history[\"val_loss\"], label=\"val_loss_model_H2\")\n",
        "ax1.set_title(\"Grafik loss dan accuracy\")\n",
        "#ax1.set_xlabel(\"Epoch #\")\n",
        "ax1.set_ylabel(\"Loss\")\n",
        "ax1.legend()\n",
        "\n",
        "\n",
        "ax2.plot(np.arange(0, 20), H2.history[\"accuracy\"], label=\"acc_model_H2\")\n",
        "ax2.plot(np.arange(0, 20), H2.history[\"val_accuracy\"], label=\"val_acc_model_H2\")\n",
        "#ax2.set_title(\"Accuracy Result Plot\")\n",
        "ax2.set_xlabel(\"Epoch #\")\n",
        "ax2.set_ylabel(\"Acc\")\n",
        "ax2.legend()"
      ],
      "metadata": {
        "colab": {
          "base_uri": "https://localhost:8080/",
          "height": 368
        },
        "id": "--grGkBmiOdy",
        "outputId": "4a01ff1d-befe-40c8-d600-3425d33c2b9c"
      },
      "execution_count": null,
      "outputs": [
        {
          "output_type": "execute_result",
          "data": {
            "text/plain": [
              "<matplotlib.legend.Legend at 0x7fa0f5e5ca90>"
            ]
          },
          "metadata": {},
          "execution_count": 38
        },
        {
          "output_type": "display_data",
          "data": {
            "text/plain": [
              "<Figure size 1440x360 with 2 Axes>"
            ],
            "image/png": "[encoded data removed]"
          },
          "metadata": {
            "needs_background": "light"
          }
        }
      ]
    },
    {
      "cell_type": "code",
      "source": [
        "from sklearn.metrics import classification_report\n",
        "\n",
        "print('================== model 1 ==================')\n",
        "ypred = model1.predict(test_generator)\n",
        "predictions = np.argmax(ypred, axis = 1)\n",
        "print(classification_report(test_generator.classes,predictions))\n",
        "\n",
        "print('================== model 2 ==================')\n",
        "ypred = model2.predict(test_generator)\n",
        "predictions = np.argmax(ypred, axis = 1)\n",
        "print(classification_report(test_generator.classes,predictions))"
      ],
      "metadata": {
        "id": "mPfZBZBg3ns-"
      },
      "execution_count": null,
      "outputs": []
    }
  ]
}